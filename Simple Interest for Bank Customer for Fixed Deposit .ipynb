{
 "cells": [
  {
   "cell_type": "markdown",
   "id": "278ae321",
   "metadata": {},
   "source": [
    "# Program to calculate the Simple Interest for Bank Customer for Fixed Deposit\n",
    "\n",
    "a) If customer is Female & Senior Citizen, Rate - 8%\n",
    "\n",
    "b) If customer is Female & Non Senior Citizen, Rate - 6%\n",
    "\n",
    "c) If customer is Male & Senior Citizen, Rate - 7%\n",
    "\n",
    "d) If customer is Male & Non Senior Citizen, Rate - 5%"
   ]
  },
  {
   "cell_type": "code",
   "execution_count": 2,
   "id": "0a979481",
   "metadata": {},
   "outputs": [],
   "source": [
    "def Simple_interest(Amount,total_time, customer_gender, customer_age):\n",
    "    if customer_gender == 'F' and customer_age >= 60:\n",
    "        rate = 0.08\n",
    "    elif customer_gender == 'F' and customer_age < 60:\n",
    "        rate = 0.06\n",
    "    elif customer_gender == 'M' and customer_age >= 60:\n",
    "        rate = 0.07\n",
    "    else:\n",
    "        rate = 0.05\n",
    "    \n",
    "    interest = Amount * rate * total_time\n",
    "    return interest\n",
    "\n"
   ]
  },
  {
   "cell_type": "code",
   "execution_count": 3,
   "id": "4e7c021d",
   "metadata": {},
   "outputs": [
    {
     "name": "stdout",
     "output_type": "stream",
     "text": [
      "Nmae of Customer: Tony\n",
      "Enter the principal amount: 50000000\n",
      "Enter the time period (in years): 10\n",
      "Enter the customer's gender (M/F): M\n",
      "Enter the customer's age: 35\n",
      "Interest amount: 25000000.0\n",
      "Total amount: 75000000.0\n"
     ]
    }
   ],
   "source": [
    "Name = input(\"Nmae of Customer: \")\n",
    "Amount = float(input(\"Enter the principal amount: \"))\n",
    "total_time = float(input(\"Enter the time period (in years): \"))\n",
    "customer_gender = input(\"Enter the customer's gender (M/F): \")\n",
    "customer_age = int(input(\"Enter the customer's age: \"))\n",
    "\n",
    "interest_amount = Simple_interest(Amount,total_time, customer_gender, customer_age)\n",
    "total_amount = Amount + interest_amount\n",
    "\n",
    "print(\"Interest amount:\", interest_amount)\n",
    "print(\"Total amount:\", total_amount)\n"
   ]
  },
  {
   "cell_type": "code",
   "execution_count": null,
   "id": "3ce9c79b",
   "metadata": {},
   "outputs": [],
   "source": []
  }
 ],
 "metadata": {
  "kernelspec": {
   "display_name": "Python 3 (ipykernel)",
   "language": "python",
   "name": "python3"
  },
  "language_info": {
   "codemirror_mode": {
    "name": "ipython",
    "version": 3
   },
   "file_extension": ".py",
   "mimetype": "text/x-python",
   "name": "python",
   "nbconvert_exporter": "python",
   "pygments_lexer": "ipython3",
   "version": "3.9.13"
  }
 },
 "nbformat": 4,
 "nbformat_minor": 5
}
